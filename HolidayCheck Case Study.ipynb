{
 "cells": [
  {
   "cell_type": "code",
   "execution_count": 297,
   "metadata": {},
   "outputs": [],
   "source": [
    "import requests as req\n",
    "import pandas as pd\n",
    "import json\n",
    "from matplotlib import pyplot as plt\n",
    "import matplotlib.dates as mdates\n",
    "import numpy as np\n",
    "from datetime import datetime\n",
    "from datetime import date\n",
    "import pytz"
   ]
  },
  {
   "cell_type": "markdown",
   "metadata": {},
   "source": [
    "### Getting the data from the API"
   ]
  },
  {
   "cell_type": "markdown",
   "metadata": {},
   "source": [
    "#### Creating functions to call API and extract data"
   ]
  },
  {
   "cell_type": "code",
   "execution_count": 298,
   "metadata": {},
   "outputs": [],
   "source": [
    "def api_wrapper(query, start_date, api_key):\n",
    "    api_str = f'https://content.guardianapis.com/search?q=\"{query}\"&from-date={start_date}&order-by=oldest&api-key={api_key}&type=article&page-size=50&show-fields=body&query-fields=headline'\n",
    "    response = json.loads(req.get(api_str).content)\n",
    "    cols = ['id', 'type', 'sectionId', 'sectionName',\n",
    "            'webPublicationDate', 'webTitle', 'webUrl', 'body']\n",
    "    df = pd.DataFrame(columns = cols)\n",
    "    return response, api_str, df"
   ]
  },
  {
   "cell_type": "code",
   "execution_count": 299,
   "metadata": {},
   "outputs": [],
   "source": [
    "def data_to_df(response, api_str, df):  \n",
    "    pages = response['response']['pages']\n",
    "    keys = ['id', 'type', 'sectionId', 'sectionName', \n",
    "            'webPublicationDate', 'webTitle', 'webUrl']\n",
    "\n",
    "    for i in range(1, pages + 1):\n",
    "        response = json.loads(req.get(api_str + f'&page={i}').content)\n",
    "\n",
    "        for entry in response['response']['results']:\n",
    "            write_entry = {k: entry[k] for k in keys}\n",
    "            write_entry['body'] = entry['fields']['body']\n",
    "            df = df.append(write_entry, ignore_index=True)\n",
    "    \n",
    "    df['webPublicationDate'] = pd.to_datetime(df['webPublicationDate'])\n",
    "    df['dateTimeLocal'] = df['webPublicationDate'].dt.tz_convert(tz='Europe/Berlin')\n",
    "    df['body'] = df['body'].str.replace(r'<.*?>', '', regex=True)\n",
    "\n",
    "    return df"
   ]
  },
  {
   "cell_type": "code",
   "execution_count": 373,
   "metadata": {},
   "outputs": [],
   "source": [
    "def get_result(df):\n",
    "    df = df.set_index('webPublicationDate')\n",
    "    df_grouped = df.groupby(pd.to_datetime((df.index.date))).size().reset_index(name='numberOfArticles')\n",
    "    df_grouped.set_index('index', inplace=True)\n",
    "\n",
    "    date_range = pd.date_range(datetime(2018,1,1), datetime.today())\n",
    "    df_grouped = df_grouped.reindex(index=date_range, fill_value=0)\n",
    "    df_grouped = df_grouped.reset_index().rename(columns={'index':'date'})\n",
    "    df_grouped['date'] = df_grouped.date.dt.tz_localize('UTC')\n",
    "\n",
    "    main_section = df['sectionName'].value_counts().index.tolist()[0]\n",
    "    # avg_articles = df_grouped['numberOfArticles'].mean()\n",
    "    # std_dev = df_grouped['numberOfArticles'].std()\n",
    "\n",
    "    return df_grouped, main_section"
   ]
  },
  {
   "cell_type": "code",
   "execution_count": null,
   "metadata": {},
   "outputs": [],
   "source": [
    "def df_metrics(df, agg_column):\n",
    "    avg = df[agg_column].mean()\n",
    "    std = df[agg_column].std()\n",
    "    return avg, std\n",
    "\n",
    "def ma_outlier_by_std(df, window_size, num_stds):\n",
    "    df['MA'] = df.rolling(window=window_size).mean()\n",
    "    avg, std = df_metrics(df, 'MA')\n",
    "    spikes_df = df.loc[df.MA > avg + num_stds * std]\n",
    "    groups = spikes_df['date'].diff().gt(f'{window_size} days').cumsum()\n",
    "    spike_dfs = [x for _, x in spikes_df.groupby(groups)]\n",
    "\n",
    "    spike_dfs = [df.loc[(df.date > sdf.iloc[0].date - pd.to_timedelta(f'{window_size} days')) &\n",
    "                    (result_df.date <= sdf.iloc[-1].date)] for sdf in spike_dfs]\n",
    "    return spike_dfs"
   ]
  },
  {
   "cell_type": "markdown",
   "metadata": {},
   "source": [
    "#### Calling functions to extract data, and present an output of article counts per day"
   ]
  },
  {
   "cell_type": "code",
   "execution_count": 374,
   "metadata": {},
   "outputs": [
    {
     "data": {
      "text/html": [
       "<div>\n",
       "<style scoped>\n",
       "    .dataframe tbody tr th:only-of-type {\n",
       "        vertical-align: middle;\n",
       "    }\n",
       "\n",
       "    .dataframe tbody tr th {\n",
       "        vertical-align: top;\n",
       "    }\n",
       "\n",
       "    .dataframe thead th {\n",
       "        text-align: right;\n",
       "    }\n",
       "</style>\n",
       "<table border=\"1\" class=\"dataframe\">\n",
       "  <thead>\n",
       "    <tr style=\"text-align: right;\">\n",
       "      <th></th>\n",
       "      <th>date</th>\n",
       "      <th>numberOfArticles</th>\n",
       "    </tr>\n",
       "  </thead>\n",
       "  <tbody>\n",
       "    <tr>\n",
       "      <th>0</th>\n",
       "      <td>2018-01-01 00:00:00+00:00</td>\n",
       "      <td>0</td>\n",
       "    </tr>\n",
       "    <tr>\n",
       "      <th>1</th>\n",
       "      <td>2018-01-02 00:00:00+00:00</td>\n",
       "      <td>0</td>\n",
       "    </tr>\n",
       "    <tr>\n",
       "      <th>2</th>\n",
       "      <td>2018-01-03 00:00:00+00:00</td>\n",
       "      <td>0</td>\n",
       "    </tr>\n",
       "    <tr>\n",
       "      <th>3</th>\n",
       "      <td>2018-01-04 00:00:00+00:00</td>\n",
       "      <td>0</td>\n",
       "    </tr>\n",
       "    <tr>\n",
       "      <th>4</th>\n",
       "      <td>2018-01-05 00:00:00+00:00</td>\n",
       "      <td>0</td>\n",
       "    </tr>\n",
       "    <tr>\n",
       "      <th>...</th>\n",
       "      <td>...</td>\n",
       "      <td>...</td>\n",
       "    </tr>\n",
       "    <tr>\n",
       "      <th>1519</th>\n",
       "      <td>2022-02-28 00:00:00+00:00</td>\n",
       "      <td>0</td>\n",
       "    </tr>\n",
       "    <tr>\n",
       "      <th>1520</th>\n",
       "      <td>2022-03-01 00:00:00+00:00</td>\n",
       "      <td>0</td>\n",
       "    </tr>\n",
       "    <tr>\n",
       "      <th>1521</th>\n",
       "      <td>2022-03-02 00:00:00+00:00</td>\n",
       "      <td>0</td>\n",
       "    </tr>\n",
       "    <tr>\n",
       "      <th>1522</th>\n",
       "      <td>2022-03-03 00:00:00+00:00</td>\n",
       "      <td>0</td>\n",
       "    </tr>\n",
       "    <tr>\n",
       "      <th>1523</th>\n",
       "      <td>2022-03-04 00:00:00+00:00</td>\n",
       "      <td>0</td>\n",
       "    </tr>\n",
       "  </tbody>\n",
       "</table>\n",
       "<p>1524 rows × 2 columns</p>\n",
       "</div>"
      ],
      "text/plain": [
       "                          date  numberOfArticles\n",
       "0    2018-01-01 00:00:00+00:00                 0\n",
       "1    2018-01-02 00:00:00+00:00                 0\n",
       "2    2018-01-03 00:00:00+00:00                 0\n",
       "3    2018-01-04 00:00:00+00:00                 0\n",
       "4    2018-01-05 00:00:00+00:00                 0\n",
       "...                        ...               ...\n",
       "1519 2022-02-28 00:00:00+00:00                 0\n",
       "1520 2022-03-01 00:00:00+00:00                 0\n",
       "1521 2022-03-02 00:00:00+00:00                 0\n",
       "1522 2022-03-03 00:00:00+00:00                 0\n",
       "1523 2022-03-04 00:00:00+00:00                 0\n",
       "\n",
       "[1524 rows x 2 columns]"
      ]
     },
     "execution_count": 374,
     "metadata": {},
     "output_type": "execute_result"
    }
   ],
   "source": [
    "query = 'Trudeau'\n",
    "start_date = '2018-01-01'\n",
    "api_key = \"91f67b2a-520b-4f9f-a4ca-edcb0d610454\"\n",
    "\n",
    "my_json, api_str, df = api_wrapper(query, start_date, api_key)\n",
    "df = data_to_df(my_json, api_str, df)\n",
    "result_df, main_section = get_result(df)\n",
    "result_df"
   ]
  },
  {
   "cell_type": "code",
   "execution_count": 358,
   "metadata": {},
   "outputs": [],
   "source": [
    "full_df = df"
   ]
  },
  {
   "cell_type": "markdown",
   "metadata": {},
   "source": [
    "### Plotting"
   ]
  },
  {
   "cell_type": "code",
   "execution_count": 304,
   "metadata": {},
   "outputs": [
    {
     "data": {
      "text/plain": [
       "<function matplotlib.pyplot.show(close=None, block=None)>"
      ]
     },
     "execution_count": 304,
     "metadata": {},
     "output_type": "execute_result"
    },
    {
     "data": {
      "image/png": "[encoded data removed]",
      "text/plain": [
       "<Figure size 432x288 with 1 Axes>"
      ]
     },
     "metadata": {
      "needs_background": "light"
     },
     "output_type": "display_data"
    }
   ],
   "source": [
    "plt.hist(result_df['numberOfArticles'], bins = np.arange(13)-0.5, edgecolor='black')\n",
    "plt.xticks(range(12))\n",
    "plt.show"
   ]
  },
  {
   "cell_type": "code",
   "execution_count": 305,
   "metadata": {},
   "outputs": [
    {
     "name": "stderr",
     "output_type": "stream",
     "text": [
      "<ipython-input-305-2fc9535be686>:3: MatplotlibDeprecationWarning: The 'nonposy' parameter of __init__() has been renamed 'nonpositive' since Matplotlib 3.3; support for the old name will be dropped two minor releases later.\n",
      "  plt.yscale('log', nonposy='clip')\n"
     ]
    },
    {
     "data": {
      "text/plain": [
       "<function matplotlib.pyplot.show(close=None, block=None)>"
      ]
     },
     "execution_count": 305,
     "metadata": {},
     "output_type": "execute_result"
    },
    {
     "data": {
      "image/png": "[encoded data removed]",
      "text/plain": [
       "<Figure size 432x288 with 1 Axes>"
      ]
     },
     "metadata": {
      "needs_background": "light"
     },
     "output_type": "display_data"
    }
   ],
   "source": [
    "plt.hist(result_df['numberOfArticles'], bins = np.arange(13)-0.5, edgecolor='black')\n",
    "plt.xticks(range(12))\n",
    "plt.yscale('log', nonposy='clip')\n",
    "plt.show"
   ]
  },
  {
   "cell_type": "code",
   "execution_count": 306,
   "metadata": {},
   "outputs": [],
   "source": [
    "# setting window size and confidence level in terms of \n",
    "# stander deviations\n",
    "window_size = 7\n",
    "num_stds = 3\n",
    "\n",
    "# calculation of moving average + mean and std deviation\n",
    "result_df['MA'] = result_df.rolling(window=window_size).mean()\n",
    "ma_mean = result_df['MA'].mean()\n",
    "ma_std = result_df['MA'].std()"
   ]
  },
  {
   "cell_type": "code",
   "execution_count": 382,
   "metadata": {},
   "outputs": [
    {
     "data": {
      "image/png": "[encoded data removed]",
      "text/plain": [
       "<Figure size 432x288 with 1 Axes>"
      ]
     },
     "metadata": {
      "needs_background": "light"
     },
     "output_type": "display_data"
    }
   ],
   "source": [
    "# visualization of the moving average\n",
    "# and the std line\n",
    "years = mdates.YearLocator()   # every year\n",
    "months = mdates.MonthLocator()  # every month\n",
    "years_fmt = mdates.DateFormatter('%Y')\n",
    "\n",
    "\n",
    "fig, ax = plt.subplots()\n",
    "ax.plot(result_df.index, result_df.MA)\n",
    "ax.hlines(y=ma_mean + num_stds * ma_std, xmin=min(result_df.index), xmax=max(result_df.index), color='r')\n",
    "\n",
    "ax.xaxis.set_major_locator(mdates.YearLocator())\n",
    "ax.xaxis.set_major_formatter(years_fmt)"
   ]
  },
  {
   "cell_type": "markdown",
   "metadata": {},
   "source": [
    "### Topic Modelling"
   ]
  },
  {
   "cell_type": "code",
   "execution_count": 413,
   "metadata": {},
   "outputs": [],
   "source": [
    "# detecting times of significantly heightened number of articles in grouped representation\n",
    "dfs = ma_outlier_by_std(result_df, 7, 3)\n",
    "\n",
    "# creating dataset containing all articles within period of heightened interest\n",
    "lda_dfs = [full_df.loc[full_df.webPublicationDate.dt.date.isin(df.date.dt.date)] for df in dfs]\n",
    "\n",
    "def preprocess(dfs):\n",
    "    import warnings\n",
    "    warnings.filterwarnings('ignore')\n",
    "    import stanza\n",
    "    stanza.download('en')\n",
    "    nlp = stanza.Pipeline(lang='en', processors='tokenize,mwt,pos,lemma')\n",
    "\n",
    "    # creating lemmatized representation of text bodies\n",
    "    for df in dfs:\n",
    "        df['lemmas'] = df['body'].apply(lemmatize, nlp=nlp)\n",
    "\n",
    "    # removing stopwords\n",
    "    from nltk.corpus import stopwords\n",
    "    df['lemmas'] = df['lemmas'].apply(lambda x: x not in stopwords.words('English'))\n",
    "    return dfs\n",
    "\n",
    "\n",
    "def lemmatize(text, nlp):\n",
    "    doc = nlp(text)\n",
    "    lemmatized_sen =[]\n",
    "    for sentence in doc.sentences:\n",
    "        for word in sentence.words:\n",
    "            if word.upos in ['NOUN', 'VERB', 'ADJ', 'ADV', 'PROPN']:\n",
    "                lemmatized_sen.append(word.lemma.lower())\n",
    "    return lemmatized_sen    \n",
    "    "
   ]
  },
  {
   "cell_type": "code",
   "execution_count": 414,
   "metadata": {},
   "outputs": [
    {
     "name": "stderr",
     "output_type": "stream",
     "text": [
      "Downloading https://raw.githubusercontent.com/stanfordnlp/stanza-resources/main/resources_1.3.0.json: 142kB [00:00, 31.4MB/s]                    \n",
      "2022-03-04 23:17:22 INFO: Downloading default packages for language: en (English)...\n",
      "2022-03-04 23:17:22 INFO: File exists: C:\\Users\\Felix\\stanza_resources\\en\\default.zip.\n",
      "2022-03-04 23:17:25 INFO: Finished downloading models and saved to C:\\Users\\Felix\\stanza_resources.\n",
      "2022-03-04 23:17:25 WARNING: Can not find mwt: default from official model list. Ignoring it.\n",
      "2022-03-04 23:17:25 INFO: Loading these models for language: en (English):\n",
      "========================\n",
      "| Processor | Package  |\n",
      "------------------------\n",
      "| tokenize  | combined |\n",
      "| pos       | combined |\n",
      "| lemma     | combined |\n",
      "========================\n",
      "\n",
      "2022-03-04 23:17:25 INFO: Use device: cpu\n",
      "2022-03-04 23:17:25 INFO: Loading: tokenize\n",
      "2022-03-04 23:17:25 INFO: Loading: pos\n",
      "2022-03-04 23:17:25 INFO: Loading: lemma\n",
      "2022-03-04 23:17:25 INFO: Done loading processors!\n"
     ]
    }
   ],
   "source": [
    "lda_dfs = preprocess(lda_dfs)\n",
    "lda_dfs"
   ]
  },
  {
   "cell_type": "code",
   "execution_count": null,
   "metadata": {},
   "outputs": [],
   "source": [
    "from nltk.corpus import stopwords\n",
    "tokens = lda_df.lemmas.tolist()\n",
    "tokens = [[word for word in sentence if word not in stopwords.words('English')] for sentence in tokens]\n"
   ]
  },
  {
   "cell_type": "code",
   "execution_count": 412,
   "metadata": {},
   "outputs": [
    {
     "data": {
      "text/html": [
       "<div>\n",
       "<style scoped>\n",
       "    .dataframe tbody tr th:only-of-type {\n",
       "        vertical-align: middle;\n",
       "    }\n",
       "\n",
       "    .dataframe tbody tr th {\n",
       "        vertical-align: top;\n",
       "    }\n",
       "\n",
       "    .dataframe thead th {\n",
       "        text-align: right;\n",
       "    }\n",
       "</style>\n",
       "<table border=\"1\" class=\"dataframe\">\n",
       "  <thead>\n",
       "    <tr style=\"text-align: right;\">\n",
       "      <th></th>\n",
       "      <th>id</th>\n",
       "      <th>type</th>\n",
       "      <th>sectionId</th>\n",
       "      <th>sectionName</th>\n",
       "      <th>webPublicationDate</th>\n",
       "      <th>webTitle</th>\n",
       "      <th>webUrl</th>\n",
       "      <th>body</th>\n",
       "      <th>dateTimeLocal</th>\n",
       "      <th>lemmas</th>\n",
       "    </tr>\n",
       "  </thead>\n",
       "  <tbody>\n",
       "    <tr>\n",
       "      <th>17</th>\n",
       "      <td>us-news/2018/jun/06/donald-trump-justin-trudea...</td>\n",
       "      <td>article</td>\n",
       "      <td>us-news</td>\n",
       "      <td>US news</td>\n",
       "      <td>2018-06-06 21:01:59+00:00</td>\n",
       "      <td>Trump to Trudeau in testy tariff call: 'Didn't...</td>\n",
       "      <td>https://www.theguardian.com/us-news/2018/jun/0...</td>\n",
       "      <td>He has criticized Canada’s trade polices as “u...</td>\n",
       "      <td>2018-06-06 23:01:59+02:00</td>\n",
       "      <td>[criticize, canada, trade, police, unfair, dis...</td>\n",
       "    </tr>\n",
       "    <tr>\n",
       "      <th>18</th>\n",
       "      <td>world/2018/jun/10/g7-in-disarray-after-trump-r...</td>\n",
       "      <td>article</td>\n",
       "      <td>world</td>\n",
       "      <td>World news</td>\n",
       "      <td>2018-06-10 02:26:16+00:00</td>\n",
       "      <td>G7 in disarray after Trump rejects communique ...</td>\n",
       "      <td>https://www.theguardian.com/world/2018/jun/10/...</td>\n",
       "      <td>Donald Trump has left the G7 network of global...</td>\n",
       "      <td>2018-06-10 04:26:16+02:00</td>\n",
       "      <td>[donald, trump, leave, g7, network, global, co...</td>\n",
       "    </tr>\n",
       "    <tr>\n",
       "      <th>19</th>\n",
       "      <td>us-news/2018/jun/10/justin-trudeau-donald-trum...</td>\n",
       "      <td>article</td>\n",
       "      <td>us-news</td>\n",
       "      <td>US news</td>\n",
       "      <td>2018-06-11 12:27:26+00:00</td>\n",
       "      <td>Trudeau 'stabbed us in back' on trade, says Tr...</td>\n",
       "      <td>https://www.theguardian.com/us-news/2018/jun/1...</td>\n",
       "      <td>Donald’s Trump’s chief economic adviser said t...</td>\n",
       "      <td>2018-06-11 14:27:26+02:00</td>\n",
       "      <td>[donald, trump, chief, economic, adviser, say,...</td>\n",
       "    </tr>\n",
       "    <tr>\n",
       "      <th>20</th>\n",
       "      <td>us-news/2018/jun/12/trump-trudeau-navarro-apol...</td>\n",
       "      <td>article</td>\n",
       "      <td>us-news</td>\n",
       "      <td>US news</td>\n",
       "      <td>2018-06-12 17:29:39+00:00</td>\n",
       "      <td>Trump's trade adviser apologizes for saying Tr...</td>\n",
       "      <td>https://www.theguardian.com/us-news/2018/jun/1...</td>\n",
       "      <td>White House trade adviser Peter Navarro has ap...</td>\n",
       "      <td>2018-06-12 19:29:39+02:00</td>\n",
       "      <td>[white, house, trade, adviser, peter, navarro,...</td>\n",
       "    </tr>\n",
       "  </tbody>\n",
       "</table>\n",
       "</div>"
      ],
      "text/plain": [
       "                                                   id     type sectionId  \\\n",
       "17  us-news/2018/jun/06/donald-trump-justin-trudea...  article   us-news   \n",
       "18  world/2018/jun/10/g7-in-disarray-after-trump-r...  article     world   \n",
       "19  us-news/2018/jun/10/justin-trudeau-donald-trum...  article   us-news   \n",
       "20  us-news/2018/jun/12/trump-trudeau-navarro-apol...  article   us-news   \n",
       "\n",
       "   sectionName        webPublicationDate  \\\n",
       "17     US news 2018-06-06 21:01:59+00:00   \n",
       "18  World news 2018-06-10 02:26:16+00:00   \n",
       "19     US news 2018-06-11 12:27:26+00:00   \n",
       "20     US news 2018-06-12 17:29:39+00:00   \n",
       "\n",
       "                                             webTitle  \\\n",
       "17  Trump to Trudeau in testy tariff call: 'Didn't...   \n",
       "18  G7 in disarray after Trump rejects communique ...   \n",
       "19  Trudeau 'stabbed us in back' on trade, says Tr...   \n",
       "20  Trump's trade adviser apologizes for saying Tr...   \n",
       "\n",
       "                                               webUrl  \\\n",
       "17  https://www.theguardian.com/us-news/2018/jun/0...   \n",
       "18  https://www.theguardian.com/world/2018/jun/10/...   \n",
       "19  https://www.theguardian.com/us-news/2018/jun/1...   \n",
       "20  https://www.theguardian.com/us-news/2018/jun/1...   \n",
       "\n",
       "                                                 body  \\\n",
       "17  He has criticized Canada’s trade polices as “u...   \n",
       "18  Donald Trump has left the G7 network of global...   \n",
       "19  Donald’s Trump’s chief economic adviser said t...   \n",
       "20  White House trade adviser Peter Navarro has ap...   \n",
       "\n",
       "               dateTimeLocal  \\\n",
       "17 2018-06-06 23:01:59+02:00   \n",
       "18 2018-06-10 04:26:16+02:00   \n",
       "19 2018-06-11 14:27:26+02:00   \n",
       "20 2018-06-12 19:29:39+02:00   \n",
       "\n",
       "                                               lemmas  \n",
       "17  [criticize, canada, trade, police, unfair, dis...  \n",
       "18  [donald, trump, leave, g7, network, global, co...  \n",
       "19  [donald, trump, chief, economic, adviser, say,...  \n",
       "20  [white, house, trade, adviser, peter, navarro,...  "
      ]
     },
     "execution_count": 412,
     "metadata": {},
     "output_type": "execute_result"
    }
   ],
   "source": [
    "lda_dfs[0]"
   ]
  },
  {
   "cell_type": "code",
   "execution_count": null,
   "metadata": {},
   "outputs": [],
   "source": [
    "# creating data and bigrams\n",
    "from gensim.models import Phrases\n",
    "tokens = lda_df.lemmas.tolist()\n",
    "bigram_model = Phrases(tokens)\n",
    "tokens = [bigram_model[text] for text in tokens]"
   ]
  },
  {
   "cell_type": "code",
   "execution_count": null,
   "metadata": {},
   "outputs": [],
   "source": [
    "# creating dictionary and corpus\n",
    "from gensim import corpora\n",
    "LDA_dict = corpora.Dictionary(tokens)\n",
    "LDA_dict.filter_extremes(no_below=3)\n",
    "corpus = [LDA_dict.doc2bow(t) for t in tokens]"
   ]
  },
  {
   "cell_type": "code",
   "execution_count": null,
   "metadata": {},
   "outputs": [],
   "source": [
    "# running LDA\n",
    "from gensim import models\n",
    "np.random.seed(69)\n",
    "num_topics = 5\n",
    "lda_model = models.LdaModel(corpus, num_topics=num_topics, \\\n",
    "                                  id2word=LDA_dict, \\\n",
    "                                  passes=4, alpha=[0.01]*num_topics, \\\n",
    "                                  eta=[0.01]*len(LDA_dict.keys()))"
   ]
  },
  {
   "cell_type": "code",
   "execution_count": null,
   "metadata": {},
   "outputs": [
    {
     "data": {
      "text/plain": [
       "[(0,\n",
       "  '0.010*\"province\" + 0.010*\"friday\" + 0.009*\"way\" + 0.008*\"border\" + 0.008*\"year\" + 0.007*\"club\" + 0.007*\"close_border\" + 0.007*\"get\" + 0.007*\"see\" + 0.007*\"business\" + 0.007*\"celebrity\" + 0.006*\"allow\" + 0.006*\"bar\" + 0.005*\"centre\" + 0.005*\"closure\" + 0.005*\"think\" + 0.005*\"as_well\" + 0.005*\"remember\" + 0.005*\"place\" + 0.005*\"stop\"'),\n",
       " (1,\n",
       "  '0.016*\"airline\" + 0.011*\"company\" + 0.010*\"infect\" + 0.010*\"guardian\" + 0.009*\"staff\" + 0.009*\"italy\" + 0.008*\"down\" + 0.008*\"australia\" + 0.008*\"flight\" + 0.007*\"work\" + 0.006*\"risk\" + 0.006*\"worker\" + 0.006*\"image\" + 0.006*\"fall\" + 0.006*\"philippines\" + 0.006*\"use\" + 0.006*\"cancel\" + 0.005*\"begin\" + 0.005*\"friday\" + 0.005*\"australian\"'),\n",
       " (2,\n",
       "  '0.017*\"province\" + 0.015*\"british\" + 0.012*\"tuesday\" + 0.010*\"business\" + 0.009*\"ontario\" + 0.009*\"year\" + 0.009*\"package\" + 0.008*\"financial\" + 0.008*\"continue\" + 0.007*\"citizen\" + 0.006*\"ford\" + 0.006*\"care\" + 0.006*\"overseas\" + 0.006*\"bring\" + 0.006*\"market\" + 0.006*\"chancellor\" + 0.006*\"alberta\" + 0.006*\"open\" + 0.005*\"authority\" + 0.005*\"australia\"'),\n",
       " (3,\n",
       "  '0.008*\"australia\" + 0.008*\"isolation\" + 0.007*\"national\" + 0.007*\"death_toll\" + 0.006*\"cut\" + 0.006*\"step\" + 0.006*\"social\" + 0.006*\"non-essential\" + 0.006*\"sport\" + 0.005*\"news\" + 0.005*\"lead\" + 0.005*\"back\" + 0.005*\"avoid\" + 0.005*\"vaccine\" + 0.005*\"suspend\" + 0.005*\"london\" + 0.005*\"guardian\" + 0.005*\"spain\" + 0.005*\"british\" + 0.005*\"europe\"'),\n",
       " (4,\n",
       "  '0.008*\"trump\" + 0.008*\"taiwan\" + 0.008*\"thursday\" + 0.007*\"china\" + 0.005*\"photograph\" + 0.005*\"european\" + 0.004*\"sport\" + 0.004*\"year\" + 0.004*\"death\" + 0.004*\"london\" + 0.004*\"crisis\" + 0.004*\"advice\" + 0.004*\"wednesday\" + 0.004*\"ask\" + 0.004*\"friday\" + 0.004*\"ireland\" + 0.004*\"italy\" + 0.004*\"australian\" + 0.003*\"donald_trump\" + 0.003*\"return\"')]"
      ]
     },
     "execution_count": 152,
     "metadata": {},
     "output_type": "execute_result"
    }
   ],
   "source": [
    "lda_model.show_topics(num_words=20)"
   ]
  },
  {
   "cell_type": "markdown",
   "metadata": {},
   "source": [
    "TODO:  \n",
    "- finish topic modelling\n",
    "  - remove stopwords\n",
    "  - check what else maybe has to be removed\n",
    "  - implement it in function to call for all dfs returning useful output\n",
    "  - clean code\n",
    "- add visualization of developement over time\n",
    "- add better viz for confidence interval\n",
    "- get automation going\n",
    "- create email / pdf report from findings"
   ]
  }
 ],
 "metadata": {
  "interpreter": {
   "hash": "8ca06996e3193df3b381d85aee2d4d3369a534d3bb1c7cdff9d40f8ac16de6f6"
  },
  "kernelspec": {
   "display_name": "Python 3.8.7 64-bit",
   "language": "python",
   "name": "python3"
  },
  "language_info": {
   "codemirror_mode": {
    "name": "ipython",
    "version": 3
   },
   "file_extension": ".py",
   "mimetype": "text/x-python",
   "name": "python",
   "nbconvert_exporter": "python",
   "pygments_lexer": "ipython3",
   "version": "3.8.7"
  },
  "orig_nbformat": 4
 },
 "nbformat": 4,
 "nbformat_minor": 2
}
