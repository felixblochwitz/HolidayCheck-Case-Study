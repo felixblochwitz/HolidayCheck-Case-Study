{
 "cells": [
  {
   "cell_type": "markdown",
   "metadata": {},
   "source": [
    "### HolidayCheck Case Study"
   ]
  },
  {
   "cell_type": "markdown",
   "metadata": {},
   "source": [
    "#### 1. Extrahieren der Daten von der Guardian Media Group API"
   ]
  },
  {
   "cell_type": "markdown",
   "metadata": {},
   "source": [
    "Um die Daten der von der Guardian Media Group API zu extrahieren, habe ich ein Package geschrieben, mit Hilfe dessen man einen Funktion aufrufen kann um alle Artikel über Justin Trudeau zu extrahieren.<br>\n",
    "Der Code dazu ist im Ordner \"trudeau\" zu finden. Diese Entscheidung habe ich vor allem deshalb getroffen, weil es dadurch einfacher wird einen automatisierten Report zu erstellen."
   ]
  },
  {
   "cell_type": "code",
   "execution_count": 1,
   "metadata": {},
   "outputs": [],
   "source": [
    "# imports zur Datengewinnung\n",
    "from trudeau import get_data\n",
    "\n",
    "# Angabe des zu suchenden Begriffs, des Startdatums und des API-Keys\n",
    "query = 'Trudeau'\n",
    "start_date = '2018-01-01'\n",
    "api_key = \"91f67b2a-520b-4f9f-a4ca-edcb0d610454\"\n",
    "\n",
    "# Erstellen eins Pandas Datansatzes mit allen Artikeln\n",
    "articles_df = get_data.get_articles(query, start_date, api_key)"
   ]
  },
  {
   "cell_type": "markdown",
   "metadata": {},
   "source": [
    "#### 2. Zählen der täglich veröffentlichten Artikel"
   ]
  },
  {
   "cell_type": "markdown",
   "metadata": {},
   "source": [
    "Im folgenden werden die \"rohen\" Daten nach Tagen gruppiert und die pro Tag veröffentlichten Artikel gezählt. Hierbei beschränke ich mich auf die Artikel in denen Justin Trudeau in der Überschrift genannt wird. Dies kann jederzeit einfach durch eine Anpassung der API-Adresse angepasst werden."
   ]
  },
  {
   "cell_type": "code",
   "execution_count": 2,
   "metadata": {},
   "outputs": [
    {
     "name": "stdout",
     "output_type": "stream",
     "text": [
      "Insgesamt wurden 126 Artikel über Justin Trudeau veröffentlicht.\n"
     ]
    },
    {
     "data": {
      "text/html": [
       "<div>\n",
       "<style scoped>\n",
       "    .dataframe tbody tr th:only-of-type {\n",
       "        vertical-align: middle;\n",
       "    }\n",
       "\n",
       "    .dataframe tbody tr th {\n",
       "        vertical-align: top;\n",
       "    }\n",
       "\n",
       "    .dataframe thead th {\n",
       "        text-align: right;\n",
       "    }\n",
       "</style>\n",
       "<table border=\"1\" class=\"dataframe\">\n",
       "  <thead>\n",
       "    <tr style=\"text-align: right;\">\n",
       "      <th></th>\n",
       "      <th>Datum</th>\n",
       "      <th>Anzahl Artikel</th>\n",
       "    </tr>\n",
       "  </thead>\n",
       "  <tbody>\n",
       "    <tr>\n",
       "      <th>0</th>\n",
       "      <td>2018-01-01</td>\n",
       "      <td>0</td>\n",
       "    </tr>\n",
       "    <tr>\n",
       "      <th>1</th>\n",
       "      <td>2018-01-02</td>\n",
       "      <td>0</td>\n",
       "    </tr>\n",
       "    <tr>\n",
       "      <th>2</th>\n",
       "      <td>2018-01-03</td>\n",
       "      <td>0</td>\n",
       "    </tr>\n",
       "    <tr>\n",
       "      <th>3</th>\n",
       "      <td>2018-01-04</td>\n",
       "      <td>0</td>\n",
       "    </tr>\n",
       "    <tr>\n",
       "      <th>4</th>\n",
       "      <td>2018-01-05</td>\n",
       "      <td>0</td>\n",
       "    </tr>\n",
       "    <tr>\n",
       "      <th>...</th>\n",
       "      <td>...</td>\n",
       "      <td>...</td>\n",
       "    </tr>\n",
       "    <tr>\n",
       "      <th>1521</th>\n",
       "      <td>2022-03-02</td>\n",
       "      <td>0</td>\n",
       "    </tr>\n",
       "    <tr>\n",
       "      <th>1522</th>\n",
       "      <td>2022-03-03</td>\n",
       "      <td>0</td>\n",
       "    </tr>\n",
       "    <tr>\n",
       "      <th>1523</th>\n",
       "      <td>2022-03-04</td>\n",
       "      <td>0</td>\n",
       "    </tr>\n",
       "    <tr>\n",
       "      <th>1524</th>\n",
       "      <td>2022-03-05</td>\n",
       "      <td>0</td>\n",
       "    </tr>\n",
       "    <tr>\n",
       "      <th>1525</th>\n",
       "      <td>2022-03-06</td>\n",
       "      <td>0</td>\n",
       "    </tr>\n",
       "  </tbody>\n",
       "</table>\n",
       "<p>1526 rows × 2 columns</p>\n",
       "</div>"
      ],
      "text/plain": [
       "           Datum  Anzahl Artikel\n",
       "0     2018-01-01               0\n",
       "1     2018-01-02               0\n",
       "2     2018-01-03               0\n",
       "3     2018-01-04               0\n",
       "4     2018-01-05               0\n",
       "...          ...             ...\n",
       "1521  2022-03-02               0\n",
       "1522  2022-03-03               0\n",
       "1523  2022-03-04               0\n",
       "1524  2022-03-05               0\n",
       "1525  2022-03-06               0\n",
       "\n",
       "[1526 rows x 2 columns]"
      ]
     },
     "execution_count": 2,
     "metadata": {},
     "output_type": "execute_result"
    }
   ],
   "source": [
    "import pandas as pd\n",
    "\n",
    "# Import von utility Funktionen\n",
    "from trudeau import utils\n",
    "\n",
    "# Erstellen eines Datensatzes mit aggregierten Daten\n",
    "grouped_df = get_data.group_days(articles_df)\n",
    "\n",
    "# Erstellen des Outputs in der gewünschten Form\n",
    "output = pd.DataFrame()\n",
    "output['Datum'] = grouped_df['date'].dt.date\n",
    "output['Anzahl Artikel'] = grouped_df['numberOfArticles']\n",
    "\n",
    "# Berechnung der Anzahl der insgesamt veröffentlichten Artikel\n",
    "total = utils.df_metrics(grouped_df, 'numberOfArticles')[2]\n",
    "print(f'Insgesamt wurden {total} Artikel über Justin Trudeau veröffentlicht.')\n",
    "output"
   ]
  },
  {
   "cell_type": "markdown",
   "metadata": {},
   "source": [
    "#### 3. Berechnen des Durchschnitts von Anzahl Artikel über den gesamten Zeitraum"
   ]
  },
  {
   "cell_type": "code",
   "execution_count": 3,
   "metadata": {},
   "outputs": [
    {
     "name": "stdout",
     "output_type": "stream",
     "text": [
      "Durchschnittlich wurden seit dem 01.01.2018 täglich 0.0826 Artikel über Justin Trudeau veröffentlicht.\n"
     ]
    }
   ],
   "source": [
    "# Berechnung des Durchschnitts\n",
    "avg = utils.df_metrics(grouped_df, 'numberOfArticles')[0]\n",
    "avg = round(avg, 4)\n",
    "print(f'Durchschnittlich wurden seit dem 01.01.2018 täglich {avg} Artikel über ' +\n",
    "        'Justin Trudeau veröffentlicht.')"
   ]
  },
  {
   "cell_type": "markdown",
   "metadata": {},
   "source": [
    "#### 4. Hauptsection in der Artikel über Justin Trudeau veröffentlicht wurden"
   ]
  },
  {
   "cell_type": "code",
   "execution_count": 4,
   "metadata": {},
   "outputs": [
    {
     "name": "stdout",
     "output_type": "stream",
     "text": [
      "Der Name der Section in der die meisten Artikel veröffentlicht wurdenist: World news.\n"
     ]
    }
   ],
   "source": [
    "# Herausfinden der am häufigsten vertretenen Section\n",
    "main_section = utils.get_mainsection(articles_df)\n",
    "print(f'Der Name der Section in der die meisten Artikel veröffentlicht wurden' + \n",
    "        f'ist: {main_section}.')"
   ]
  },
  {
   "cell_type": "markdown",
   "metadata": {},
   "source": [
    "#### 5. Zeitliche Entwicklung der Anzahl der Artikel"
   ]
  },
  {
   "cell_type": "markdown",
   "metadata": {},
   "source": [
    "Um die zeitliche Entwicklung der Anzahl der Artikel zu zeigen, verwende ich einen Lineplot der Anzahl der täglich veröffentlichten Artikel"
   ]
  },
  {
   "cell_type": "code",
   "execution_count": 5,
   "metadata": {},
   "outputs": [
    {
     "data": {
      "image/png": "[encoded data removed]",
      "text/plain": [
       "<Figure size 720x432 with 1 Axes>"
      ]
     },
     "metadata": {
      "needs_background": "light"
     },
     "output_type": "display_data"
    }
   ],
   "source": [
    "# plot imports\n",
    "from matplotlib import pyplot as plt\n",
    "import matplotlib.dates as mdates\n",
    "from matplotlib.ticker import MaxNLocator\n",
    "\n",
    "\n",
    "years = mdates.YearLocator()   # every year\n",
    "months = mdates.MonthLocator()  # every month\n",
    "years_fmt = mdates.DateFormatter('%Y')\n",
    "\n",
    "\n",
    "fig, ax = plt.subplots()\n",
    "fig.set_size_inches(10, 6)\n",
    "ax.plot(grouped_df.date, grouped_df.numberOfArticles)\n",
    "\n",
    "ax.xaxis.set_major_formatter(years_fmt)\n",
    "ax.xaxis.set_major_locator(years)\n",
    "ax.xaxis.set_minor_locator(months)\n",
    "ax.yaxis.set_major_locator(MaxNLocator(integer=True))\n",
    "ax.set_xlabel('Datum')\n",
    "ax.set_ylabel('Anzahl Artikel')\n",
    "\n",
    "plt.show()"
   ]
  },
  {
   "cell_type": "markdown",
   "metadata": {},
   "source": [
    "#### 6. + 7. Ungewöhnliche Ereignisse in der Zeitreihe"
   ]
  },
  {
   "cell_type": "markdown",
   "metadata": {},
   "source": [
    "Auf den ersten Blick, scheint es einige Zeiträume in der Zeitreihe zu geben, in denen besonders viele Artikel über Justin Trudeau veröffentlich wurden.<br>\n",
    "Um genauer zu definieren, was als ungewöhnlich viele veröffentlichte Artikel gilt, wird ein gleitender Durchschnitt mit einem 7-Tage Fenster berechnet. Alle Zeiträume in denen dieser gleitende Durchschnitt mehr als 3 Standardabweichungen vom Mittelwert abweicht gelten final als ungewöhnlich."
   ]
  },
  {
   "cell_type": "code",
   "execution_count": 6,
   "metadata": {},
   "outputs": [],
   "source": [
    "# Fensterlänge des gleitenden Durchschnitts\n",
    "window_size = 7\n",
    "# Sicherheit mittels Anzahl Standardabweichungen\n",
    "num_stds = 3\n",
    "\n",
    "# Berechnung des gleitenden Durchschnitts, Mittelwerts und Standardabweichung\n",
    "grouped_df['MA'] = grouped_df.rolling(window=window_size).mean()\n",
    "ma_mean, ma_std = utils.df_metrics(grouped_df, 'MA')[:2]"
   ]
  },
  {
   "cell_type": "code",
   "execution_count": 7,
   "metadata": {},
   "outputs": [
    {
     "data": {
      "image/png": "[encoded data removed]",
      "text/plain": [
       "<Figure size 720x432 with 1 Axes>"
      ]
     },
     "metadata": {
      "needs_background": "light"
     },
     "output_type": "display_data"
    }
   ],
   "source": [
    "# Visualisierung des gleitenden Durchschnitts und \n",
    "# des Mittlewerts + 3 Standardabweichungen\n",
    "\n",
    "fig, ax = plt.subplots()\n",
    "fig.set_size_inches(10, 6)\n",
    "ax.plot(grouped_df.date, grouped_df.MA)\n",
    "ax.hlines(y=ma_mean + num_stds * ma_std, xmin=min(grouped_df.date), \n",
    "            xmax=max(grouped_df.date), color='r')\n",
    "\n",
    "ax.xaxis.set_major_formatter(years_fmt)\n",
    "ax.xaxis.set_major_locator(years)\n",
    "ax.xaxis.set_minor_locator(months)\n",
    "ax.set_xlabel('Datum')\n",
    "ax.set_ylabel('gleitender Durchschnitt 7 Tage')\n",
    "plt.show()"
   ]
  },
  {
   "cell_type": "markdown",
   "metadata": {},
   "source": [
    "#### 8. Grund der ungewöhnlichen Ereignisse"
   ]
  },
  {
   "cell_type": "code",
   "execution_count": 8,
   "metadata": {},
   "outputs": [],
   "source": [
    "# Erkennung des ungewöhnlich hohen aufkommens von Artikeln\n",
    "outlier_dfs = utils.outliers_by_std(grouped_df, 'MA', window_size, num_stds)\n",
    "# Erstellen eines Datensatzes mit Artikeln + Metadaten \n",
    "# während der ungewöhnlichen Ereignisse\n",
    "lda_dfs = [articles_df.loc[articles_df.webPublicationDate.dt.date.isin(df.date.dt.date)] \n",
    "                for df in outlier_dfs]"
   ]
  },
  {
   "cell_type": "code",
   "execution_count": 9,
   "metadata": {},
   "outputs": [],
   "source": [
    "# Speichern der Datensätze mit Artikeln der ungewöhnlichen Ereignisse als CSV\n",
    "for i, df in enumerate(lda_dfs):\n",
    "    df.to_csv(f'extra_data/spike{i}.csv', index=False)"
   ]
  },
  {
   "cell_type": "markdown",
   "metadata": {},
   "source": [
    "Wenn man sich die Artikel der ungewöhnlichen Ereignisse anssieht, erkennt man folgende Gründe für das erhöhte Aufkommen von Artikeln über Justin Trudeau:\n",
    "- 06.06.2018 - 12.06.2018: Streit mit den USA über Handelspolitik\n",
    "- 02.07.2018 - 07.07.2018: Belästigungsanschuldigung an Trudeau von Reporterin\n",
    "- 22.02.2019 - 03.01.2019: Regierungsskandal, SNC-Lavlin Bestechungsskandal \n",
    "- 19.09.2019 - 21.09.2019: Trudeau brownface/blackface Anschuldigungen\n",
    "- 18.10.2019 - 22.10.2019: Wahlen in Kanada\n",
    "- 13.03.2020 - 16.03.2020: Trudeau Coronavirusinfektion und kanadische Grenzschließungen\n",
    "- 09.09.2021 - 21.09.2021: Wahlen in Kanada\n",
    "\n",
    "Als versuch zur automatischen Erkennung der Gründe für außergewöhnliche Ereignisse habe ich zusätzlich einen Topic Modelling Algorithmus implementiert. Dies ist aber nur als Experiment anzusehen und bedürfte wahrscheinlich weiteren Anpassungen."
   ]
  },
  {
   "cell_type": "code",
   "execution_count": 12,
   "metadata": {},
   "outputs": [
    {
     "data": {
      "text/plain": [
       "[[(0,\n",
       "   '0.015*\"reporter\" + 0.014*\"apologise\" + 0.014*\"trump\" + 0.013*\"editorial\" + 0.013*\"time\" + 0.011*\"day\" + 0.011*\"woman\" + 0.010*\"grope\" + 0.008*\"incident\" + 0.008*\"interaction\"')],\n",
       " [(0,\n",
       "   '0.019*\"wilson_raybould\" + 0.012*\"party\" + 0.009*\"scandal\" + 0.007*\"leader\" + 0.007*\"prosecution\" + 0.006*\"first\" + 0.006*\"testimony\" + 0.006*\"tell\" + 0.006*\"political\" + 0.006*\"snc_lavalin\"')],\n",
       " [(0,\n",
       "   '0.007*\"party\" + 0.006*\"image\" + 0.006*\"us\" + 0.006*\"leader\" + 0.005*\"week\" + 0.005*\"climate\" + 0.005*\"people\" + 0.005*\"time\" + 0.004*\"make\" + 0.004*\"new\"')],\n",
       " [(0,\n",
       "   '0.017*\"party\" + 0.012*\"government\" + 0.011*\"seat\" + 0.011*\"liberal\" + 0.011*\"conservative\" + 0.010*\"leader\" + 0.009*\"win\" + 0.008*\"country\" + 0.008*\"result\" + 0.008*\"liberals\"')],\n",
       " [(0,\n",
       "   '0.010*\"us\" + 0.009*\"coronavirus\" + 0.008*\"country\" + 0.007*\"virus\" + 0.007*\"announce\" + 0.007*\"day\" + 0.007*\"province\" + 0.007*\"week\" + 0.006*\"plan\" + 0.006*\"take\"')],\n",
       " [(0,\n",
       "   '0.024*\"party\" + 0.014*\"leader\" + 0.013*\"election\" + 0.010*\"conservative\" + 0.009*\"singh\" + 0.009*\"win\" + 0.008*\"country\" + 0.007*\"seat\" + 0.007*\"political\" + 0.007*\"call\"')]]"
      ]
     },
     "execution_count": 12,
     "metadata": {},
     "output_type": "execute_result"
    }
   ],
   "source": [
    "from trudeau import topic_modelling\n",
    "lda_dfs = utils.preprocess(lda_dfs)\n",
    "topics = topic_modelling.lda(lda_dfs)\n",
    "topics"
   ]
  },
  {
   "cell_type": "markdown",
   "metadata": {},
   "source": [
    "Der Topic Modelling Algorithmus gibt zu jedem ungewöhnlichen Ereignis die bezeichnendsten 10 Worte des jeweiligen Themas aus."
   ]
  },
  {
   "cell_type": "markdown",
   "metadata": {},
   "source": [
    "#### Automatisierung"
   ]
  },
  {
   "cell_type": "markdown",
   "metadata": {},
   "source": [
    "Um einen täglichen automatischen Report anzufertigen habe ich ein Script report.py geschrieben, was sich ebenfalls in diesem Ordner befindet.<br>\n",
    "Das Script aktualisiert den Datensatz mit allen Artikeln die am vorigen Tag erschienen sind (voriger Tag, da am heutigen Tag, je nach Ausführungszeipunkt immer noch Artikel erscheinen könnten) und verfasst eine Email, mit einer Grafik des zeitlichen Verlaufs und einigen Kenndaten, wie Durchschnitt und häufigste Section. Außerdem sind im Anhang der Mail, die aktuellen Daten.<br>\n",
    "Dieses Script kann dann durch einen cronjob (Unix/Linux) oder den Windows Task Scheduler automatisiert werden.<br>\n",
    "Das folgende Bild zeigt einein Screenshot wie eine solche Email aussehen würde:<br>\n",
    "![title](mail_screenshot.png)"
   ]
  }
 ],
 "metadata": {
  "interpreter": {
   "hash": "8ca06996e3193df3b381d85aee2d4d3369a534d3bb1c7cdff9d40f8ac16de6f6"
  },
  "kernelspec": {
   "display_name": "Python 3.8.7 64-bit",
   "language": "python",
   "name": "python3"
  },
  "language_info": {
   "codemirror_mode": {
    "name": "ipython",
    "version": 3
   },
   "file_extension": ".py",
   "mimetype": "text/x-python",
   "name": "python",
   "nbconvert_exporter": "python",
   "pygments_lexer": "ipython3",
   "version": "3.8.8"
  },
  "orig_nbformat": 4
 },
 "nbformat": 4,
 "nbformat_minor": 2
}
