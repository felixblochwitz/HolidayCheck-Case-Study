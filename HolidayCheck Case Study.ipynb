{
 "cells": [
  {
   "cell_type": "code",
   "execution_count": 1,
   "metadata": {},
   "outputs": [],
   "source": [
    "import requests as req\n",
    "import pandas as pd\n",
    "import json\n",
    "from matplotlib import pyplot as plt\n",
    "import matplotlib.dates as mdates\n",
    "import numpy as np\n",
    "from datetime import datetime\n",
    "import pytz"
   ]
  },
  {
   "cell_type": "code",
   "execution_count": 2,
   "metadata": {},
   "outputs": [
    {
     "data": {
      "text/plain": [
       "datetime.date(2022, 3, 4)"
      ]
     },
     "execution_count": 2,
     "metadata": {},
     "output_type": "execute_result"
    }
   ],
   "source": [
    "tz = pytz.timezone('Europe/Berlin')\n",
    "\n",
    "tz.localize(datetime.today()).date()"
   ]
  },
  {
   "cell_type": "code",
   "execution_count": 3,
   "metadata": {},
   "outputs": [],
   "source": [
    "def api_wrapper(query, start_date, api_key):\n",
    "    api_str = f'https://content.guardianapis.com/search?q=\"{query}\"&from-date={start_date}&order-by=oldest&api-key={api_key}&type=article&page-size=50&show-fields=body'\n",
    "    # &query-fields=headline  don't know if I want or should use this\n",
    "    response = req.get(api_str).content\n",
    "    response_json = json.loads(response)\n",
    "    cols = ['id', 'type', 'sectionId', 'sectionName', 'webPublicationDate', 'webTitle', 'webUrl', 'body']\n",
    "    df = pd.DataFrame(columns = cols)\n",
    "    return response_json, api_str, df"
   ]
  },
  {
   "cell_type": "code",
   "execution_count": 4,
   "metadata": {},
   "outputs": [],
   "source": [
    "def data_to_df(response_json, api_str, df):  \n",
    "    pages = response_json['response']['pages']\n",
    "    for i in range(1, pages + 1):\n",
    "        response = req.get(api_str + f'&page={i}').content\n",
    "        response_json = json.loads(response)\n",
    "        for entry in response_json['response']['results']:\n",
    "            keys = ['id', 'type', 'sectionId', 'sectionName', 'webPublicationDate', 'webTitle', 'webUrl']\n",
    "            write_entry = {k: entry[k] for k in keys}\n",
    "            write_entry['body'] = entry['fields']['body']\n",
    "            df = df.append(write_entry, ignore_index=True)\n",
    "    \n",
    "    df['Date'] = pd.to_datetime(df['webPublicationDate']).dt.tz_convert(tz='Europe/Berlin')\n",
    "    df['body'] = df['body'].str.replace(r'<.*?>', '', regex=True)\n",
    "\n",
    "    return df"
   ]
  },
  {
   "cell_type": "code",
   "execution_count": 5,
   "metadata": {},
   "outputs": [],
   "source": [
    "def get_result(df):\n",
    "    df = df.set_index('Date')\n",
    "    df_grouped = df.groupby(lambda x: x.date).size().reset_index(name='numberOfArticles')\n",
    "    df_grouped = df_grouped.set_index('index')\n",
    "\n",
    "    berlin = pytz.timezone('Europe/Berlin')\n",
    "    date_range = pd.date_range(min(df.index), berlin.localize(datetime.today())).date\n",
    "    df_grouped = df_grouped.reindex(index = date_range, fill_value=0)\n",
    "\n",
    "    main_section = df['sectionName'].value_counts().index.tolist()[0]\n",
    "    avg_articles = df_grouped['numberOfArticles'].mean()\n",
    "    std_dev = df_grouped['numberOfArticles'].std()\n",
    "\n",
    "    return df_grouped, main_section, avg_articles, std_dev"
   ]
  },
  {
   "cell_type": "code",
   "execution_count": 6,
   "metadata": {},
   "outputs": [
    {
     "data": {
      "text/html": [
       "<div>\n",
       "<style scoped>\n",
       "    .dataframe tbody tr th:only-of-type {\n",
       "        vertical-align: middle;\n",
       "    }\n",
       "\n",
       "    .dataframe tbody tr th {\n",
       "        vertical-align: top;\n",
       "    }\n",
       "\n",
       "    .dataframe thead th {\n",
       "        text-align: right;\n",
       "    }\n",
       "</style>\n",
       "<table border=\"1\" class=\"dataframe\">\n",
       "  <thead>\n",
       "    <tr style=\"text-align: right;\">\n",
       "      <th></th>\n",
       "      <th>numberOfArticles</th>\n",
       "    </tr>\n",
       "    <tr>\n",
       "      <th>index</th>\n",
       "      <th></th>\n",
       "    </tr>\n",
       "  </thead>\n",
       "  <tbody>\n",
       "    <tr>\n",
       "      <th>2018-01-01</th>\n",
       "      <td>1</td>\n",
       "    </tr>\n",
       "    <tr>\n",
       "      <th>2018-01-02</th>\n",
       "      <td>0</td>\n",
       "    </tr>\n",
       "    <tr>\n",
       "      <th>2018-01-03</th>\n",
       "      <td>1</td>\n",
       "    </tr>\n",
       "    <tr>\n",
       "      <th>2018-01-04</th>\n",
       "      <td>0</td>\n",
       "    </tr>\n",
       "    <tr>\n",
       "      <th>2018-01-05</th>\n",
       "      <td>0</td>\n",
       "    </tr>\n",
       "    <tr>\n",
       "      <th>...</th>\n",
       "      <td>...</td>\n",
       "    </tr>\n",
       "    <tr>\n",
       "      <th>2022-02-27</th>\n",
       "      <td>0</td>\n",
       "    </tr>\n",
       "    <tr>\n",
       "      <th>2022-02-28</th>\n",
       "      <td>1</td>\n",
       "    </tr>\n",
       "    <tr>\n",
       "      <th>2022-03-01</th>\n",
       "      <td>0</td>\n",
       "    </tr>\n",
       "    <tr>\n",
       "      <th>2022-03-02</th>\n",
       "      <td>0</td>\n",
       "    </tr>\n",
       "    <tr>\n",
       "      <th>2022-03-03</th>\n",
       "      <td>0</td>\n",
       "    </tr>\n",
       "  </tbody>\n",
       "</table>\n",
       "<p>1523 rows × 1 columns</p>\n",
       "</div>"
      ],
      "text/plain": [
       "            numberOfArticles\n",
       "index                       \n",
       "2018-01-01                 1\n",
       "2018-01-02                 0\n",
       "2018-01-03                 1\n",
       "2018-01-04                 0\n",
       "2018-01-05                 0\n",
       "...                      ...\n",
       "2022-02-27                 0\n",
       "2022-02-28                 1\n",
       "2022-03-01                 0\n",
       "2022-03-02                 0\n",
       "2022-03-03                 0\n",
       "\n",
       "[1523 rows x 1 columns]"
      ]
     },
     "execution_count": 6,
     "metadata": {},
     "output_type": "execute_result"
    }
   ],
   "source": [
    "query = 'Trudeau'\n",
    "start_date = '2018-01-01'\n",
    "api_key = \"91f67b2a-520b-4f9f-a4ca-edcb0d610454\"\n",
    "\n",
    "my_json, api_str, df = api_wrapper(query, start_date, api_key)\n",
    "df = data_to_df(my_json, api_str, df)\n",
    "result_df, main_section, avg_articles, std_dev = get_result(df)\n",
    "\n",
    "result_df"
   ]
  },
  {
   "cell_type": "code",
   "execution_count": 7,
   "metadata": {},
   "outputs": [],
   "source": [
    "full_df = df"
   ]
  },
  {
   "cell_type": "code",
   "execution_count": 8,
   "metadata": {},
   "outputs": [
    {
     "name": "stdout",
     "output_type": "stream",
     "text": [
      "0.5745239658568615\n",
      "1.0575712666999362\n"
     ]
    }
   ],
   "source": [
    "print(avg_articles)\n",
    "print(std_dev)"
   ]
  },
  {
   "cell_type": "code",
   "execution_count": 9,
   "metadata": {},
   "outputs": [
    {
     "data": {
      "text/plain": [
       "array([datetime.date(1970, 1, 1)], dtype=object)"
      ]
     },
     "execution_count": 9,
     "metadata": {},
     "output_type": "execute_result"
    }
   ],
   "source": [
    "pd.date_range(min(df.index), max(df.index)).date"
   ]
  },
  {
   "cell_type": "markdown",
   "metadata": {},
   "source": [
    "## Plotting"
   ]
  },
  {
   "cell_type": "code",
   "execution_count": 10,
   "metadata": {},
   "outputs": [
    {
     "data": {
      "text/plain": [
       "<function matplotlib.pyplot.show(close=None, block=None)>"
      ]
     },
     "execution_count": 10,
     "metadata": {},
     "output_type": "execute_result"
    },
    {
     "data": {
      "image/png": "[encoded data removed]",
      "text/plain": [
       "<Figure size 432x288 with 1 Axes>"
      ]
     },
     "metadata": {
      "needs_background": "light"
     },
     "output_type": "display_data"
    }
   ],
   "source": [
    "plt.hist(result_df['numberOfArticles'], bins = np.arange(13)-0.5, edgecolor='black')\n",
    "plt.xticks(range(12))\n",
    "plt.show"
   ]
  },
  {
   "cell_type": "code",
   "execution_count": 11,
   "metadata": {},
   "outputs": [
    {
     "name": "stderr",
     "output_type": "stream",
     "text": [
      "<ipython-input-11-2fc9535be686>:3: MatplotlibDeprecationWarning: The 'nonposy' parameter of __init__() has been renamed 'nonpositive' since Matplotlib 3.3; support for the old name will be dropped two minor releases later.\n",
      "  plt.yscale('log', nonposy='clip')\n"
     ]
    },
    {
     "data": {
      "text/plain": [
       "<function matplotlib.pyplot.show(close=None, block=None)>"
      ]
     },
     "execution_count": 11,
     "metadata": {},
     "output_type": "execute_result"
    },
    {
     "data": {
      "image/png": "[encoded data removed]",
      "text/plain": [
       "<Figure size 432x288 with 1 Axes>"
      ]
     },
     "metadata": {
      "needs_background": "light"
     },
     "output_type": "display_data"
    }
   ],
   "source": [
    "plt.hist(result_df['numberOfArticles'], bins = np.arange(13)-0.5, edgecolor='black')\n",
    "plt.xticks(range(12))\n",
    "plt.yscale('log', nonposy='clip')\n",
    "plt.show"
   ]
  },
  {
   "cell_type": "code",
   "execution_count": 12,
   "metadata": {},
   "outputs": [],
   "source": [
    "# setting window size and confidence level in terms of \n",
    "# stander deviations\n",
    "window_size = 7\n",
    "num_stds = 3\n",
    "\n",
    "# calculation of moving average + mean and std deviation\n",
    "result_df['MA'] = result_df.rolling(window=window_size).mean()\n",
    "ma_mean = result_df['MA'].mean()\n",
    "ma_std = result_df['MA'].std()"
   ]
  },
  {
   "cell_type": "code",
   "execution_count": 13,
   "metadata": {},
   "outputs": [
    {
     "data": {
      "image/png": "[encoded data removed]",
      "text/plain": [
       "<Figure size 432x288 with 1 Axes>"
      ]
     },
     "metadata": {
      "needs_background": "light"
     },
     "output_type": "display_data"
    }
   ],
   "source": [
    "# visualization of the moving average\n",
    "# and the std line\n",
    "years = mdates.YearLocator()   # every year\n",
    "months = mdates.MonthLocator()  # every month\n",
    "years_fmt = mdates.DateFormatter('%Y')\n",
    "\n",
    "\n",
    "fig, ax = plt.subplots()\n",
    "ax.plot(result_df.index, result_df.MA)\n",
    "ax.hlines(y=ma_mean + num_stds * ma_std, xmin=min(result_df.index), xmax=max(result_df.index), color='r')\n",
    "\n",
    "ax.xaxis.set_major_locator(mdates.YearLocator())\n",
    "ax.xaxis.set_major_formatter(years_fmt)"
   ]
  },
  {
   "cell_type": "code",
   "execution_count": 14,
   "metadata": {},
   "outputs": [],
   "source": [
    "# create df containing spikes in articles\n",
    "pd.set_option('display.max_rows', 100)\n",
    "spikes_df = result_df.loc[result_df.MA > ma_mean + num_stds * ma_std ]"
   ]
  },
  {
   "cell_type": "code",
   "execution_count": 15,
   "metadata": {},
   "outputs": [
    {
     "name": "stdout",
     "output_type": "stream",
     "text": [
      "6\n"
     ]
    },
    {
     "name": "stderr",
     "output_type": "stream",
     "text": [
      "<ipython-input-15-51b5b66b8efb>:1: SettingWithCopyWarning: \n",
      "A value is trying to be set on a copy of a slice from a DataFrame.\n",
      "Try using .loc[row_indexer,col_indexer] = value instead\n",
      "\n",
      "See the caveats in the documentation: https://pandas.pydata.org/pandas-docs/stable/user_guide/indexing.html#returning-a-view-versus-a-copy\n",
      "  spikes_df['date'] = spikes_df.index\n"
     ]
    },
    {
     "data": {
      "text/plain": [
       "[            numberOfArticles        MA        date\n",
       " index                                             \n",
       " 2018-06-09                 5  2.571429  2018-06-09\n",
       " 2018-06-10                 5  3.142857  2018-06-10\n",
       " 2018-06-11                 9  4.428571  2018-06-11\n",
       " 2018-06-12                 6  5.142857  2018-06-12\n",
       " 2018-06-13                 2  5.142857  2018-06-13\n",
       " 2018-06-14                 1  4.714286  2018-06-14\n",
       " 2018-06-15                 3  4.428571  2018-06-15\n",
       " 2018-06-16                 0  3.714286  2018-06-16\n",
       " 2018-06-17                 1  3.142857  2018-06-17,\n",
       "             numberOfArticles        MA        date\n",
       " index                                             \n",
       " 2019-09-21                 1  2.428571  2019-09-21\n",
       " 2019-09-22                 0  2.428571  2019-09-22\n",
       " 2019-09-23                 1  2.571429  2019-09-23\n",
       " 2019-09-24                 2  2.571429  2019-09-24\n",
       " 2019-09-25                 1  2.571429  2019-09-25,\n",
       "             numberOfArticles        MA        date\n",
       " index                                             \n",
       " 2019-12-05                 9  2.857143  2019-12-05\n",
       " 2019-12-06                 3  3.285714  2019-12-06\n",
       " 2019-12-07                 2  3.571429  2019-12-07\n",
       " 2019-12-08                 1  3.714286  2019-12-08\n",
       " 2019-12-09                 0  3.714286  2019-12-09\n",
       " 2019-12-10                 1  3.714286  2019-12-10,\n",
       "             numberOfArticles        MA        date\n",
       " index                                             \n",
       " 2020-01-11                 5  2.571429  2020-01-11\n",
       " 2020-01-12                 2  2.857143  2020-01-12\n",
       " 2020-01-13                 4  3.428571  2020-01-13\n",
       " 2020-01-14                 5  4.000000  2020-01-14\n",
       " 2020-01-15                 2  4.000000  2020-01-15\n",
       " 2020-01-16                 1  3.571429  2020-01-16\n",
       " 2020-01-17                 0  2.714286  2020-01-17,\n",
       "             numberOfArticles        MA        date\n",
       " index                                             \n",
       " 2020-03-16                 3  2.571429  2020-03-16\n",
       " 2020-03-17                 2  2.857143  2020-03-17\n",
       " 2020-03-18                 5  3.571429  2020-03-18\n",
       " 2020-03-19                 0  3.000000  2020-03-19,\n",
       "             numberOfArticles        MA        date\n",
       " index                                             \n",
       " 2022-02-17                 3  2.428571  2022-02-17]"
      ]
     },
     "execution_count": 15,
     "metadata": {},
     "output_type": "execute_result"
    }
   ],
   "source": [
    "spikes_df['date'] = spikes_df.index\n",
    "# test_df['delta'] = (test_df['date'] - test_df['date'].shift()).fillna(pd.Timedelta(0))\n",
    "groups = spikes_df['date'].diff().gt(f'{window_size} days').cumsum()\n",
    "dfs = [x for _, x in spikes_df.groupby(groups)]\n",
    "print(len(dfs))\n",
    "dfs"
   ]
  },
  {
   "cell_type": "code",
   "execution_count": 16,
   "metadata": {},
   "outputs": [],
   "source": [
    "# probably makes everything easier\n",
    "result_df['date'] = pd.to_datetime(result_df.index).date"
   ]
  },
  {
   "cell_type": "code",
   "execution_count": 17,
   "metadata": {},
   "outputs": [],
   "source": [
    "# for df in dfs:\n",
    "#     df = result_df.loc[(result_df.date >= df.iloc[0].date - pd.to_timedelta(f'{window_size} days')) &\n",
    "#                     (result_df.date <= df.iloc[-1].date)]\n",
    "dfs = [result_df.loc[(result_df.date >= df.iloc[0].date - pd.to_timedelta(f'{window_size} days')) &\n",
    "                    (result_df.date <= df.iloc[-1].date)] for df in dfs]"
   ]
  },
  {
   "cell_type": "markdown",
   "metadata": {},
   "source": [
    "## Topic Modelling"
   ]
  },
  {
   "cell_type": "code",
   "execution_count": 75,
   "metadata": {},
   "outputs": [],
   "source": [
    "# data preparation\n",
    "\n",
    "# creating lda test data set\n",
    "full_df.Date = pd.to_datetime(full_df.Date).dt.date\n",
    "lda_df = full_df.loc[full_df.Date.isin(dfs[2].date)]\n",
    "\n",
    "# # tokenize sentences\n",
    "# from nltk.tokenize import sent_tokenize\n",
    "# # needed downlaod for tokenization\n",
    "# from nltk import download as nltk_download\n",
    "# nltk_download('punkt')\n",
    "# lda_df['sentences'] = lda_df.body.map(sent_tokenize)\n",
    "\n",
    "\n",
    "# # tokenize words\n",
    "# from nltk.tokenize import word_tokenize\n",
    "# lda_df['words'] = lda_df.sentences.map(lambda sentences: [word_tokenize(sentence) for sentence in sentences])\n",
    "\n",
    "# # word tokens with POS-tags\n",
    "# from nltk import pos_tag_sents\n",
    "# nltk_download('averaged_perceptron_tagger')\n",
    "# lda_df['test'] = lda_df.words.map(pos_tag_sents)\n",
    "# lda_df['test']"
   ]
  },
  {
   "cell_type": "code",
   "execution_count": 76,
   "metadata": {},
   "outputs": [
    {
     "name": "stderr",
     "output_type": "stream",
     "text": [
      "2022-03-04 05:46:05 WARNING: Can not find mwt: default from official model list. Ignoring it.\n",
      "2022-03-04 05:46:05 INFO: Loading these models for language: en (English):\n",
      "========================\n",
      "| Processor | Package  |\n",
      "------------------------\n",
      "| tokenize  | combined |\n",
      "| pos       | combined |\n",
      "| lemma     | combined |\n",
      "========================\n",
      "\n",
      "2022-03-04 05:46:05 INFO: Use device: cpu\n",
      "2022-03-04 05:46:05 INFO: Loading: tokenize\n",
      "2022-03-04 05:46:05 INFO: Loading: pos\n",
      "2022-03-04 05:46:05 INFO: Loading: lemma\n",
      "2022-03-04 05:46:05 INFO: Done loading processors!\n"
     ]
    }
   ],
   "source": [
    "import stanza\n",
    "nlp = stanza.Pipeline(lang='en', processors='tokenize,mwt,pos,lemma')\n",
    "sent = \"That's a test, bitch! Fuck OFF!\"\n",
    "doc = nlp(sent)\n"
   ]
  },
  {
   "cell_type": "code",
   "execution_count": 77,
   "metadata": {},
   "outputs": [
    {
     "name": "stderr",
     "output_type": "stream",
     "text": [
      "<ipython-input-77-33ec731e702c>:10: SettingWithCopyWarning: \n",
      "A value is trying to be set on a copy of a slice from a DataFrame.\n",
      "Try using .loc[row_indexer,col_indexer] = value instead\n",
      "\n",
      "See the caveats in the documentation: https://pandas.pydata.org/pandas-docs/stable/user_guide/indexing.html#returning-a-view-versus-a-copy\n",
      "  lda_df['lemmas'] = lda_df['body'].apply(lemmatize_sen)\n"
     ]
    },
    {
     "data": {
      "text/plain": [
       "443    [as, the, Queen, host, world, leader, to, mark...\n",
       "444    [Nato, disunity, be, on, full, display, on, th...\n",
       "445    [good, morning, I, be, Tim, Walker, with, toda...\n",
       "446    [a, video, have, emerge, that, appear, to, sho...\n",
       "447    [seventy, year, after, Nato, be, found, to, pr...\n",
       "448    [give, the, event, be, potentially, awkward, f...\n",
       "449    [a, furious, Donald, Trump, cut, short, he, at...\n",
       "450    [it, be, war, the, summit, that, be, mean, to,...\n",
       "451    [Canada, 's, log, industry, have, a, larger, a...\n",
       "452    [Trump, 's, UK, visit, end, without, damage, J...\n",
       "453    [good, morning, this, be, Richard, Parkin, bri...\n",
       "454    [democratic, presidential, hopeful, Joe, Biden...\n",
       "455    [we, have, a, week, to, go, before, election, ...\n",
       "456    [good, morning, I, be, Tim, Walker, with, toda...\n",
       "457    [Donald, Trump, throw, a, tantrum, at, the, Na...\n",
       "458    [a, mysterious, group, have, use, some, of, Fa...\n",
       "459    [the, message, from, Israel, arrive, on, a, ot...\n",
       "460    [you, know, that, classic, nightmare, where, y...\n",
       "461    [Trevor, Noah, Donald, Trump, have, spend, mos...\n",
       "462    [John, Kerry, the, former, secretary, of, stat...\n",
       "463    [a, investigation, by, the, Guardian, reveal, ...\n",
       "464    [I, be, 16, year, old, when, I, meet, Ron, we,...\n",
       "465    [Monday, I, be, not, sure, what, the, protocol...\n",
       "466    [Kate, Bennett, 's, free, Melania, be, a, book...\n",
       "467    [the, presence, of, Princess, Anne, at, the, N...\n",
       "468    [we, open, in, the, Nato, cafeteria, where, th...\n",
       "469    [this, week, the, canadian, government, be, in...\n",
       "Name: lemmas, dtype: object"
      ]
     },
     "execution_count": 77,
     "metadata": {},
     "output_type": "execute_result"
    }
   ],
   "source": [
    "def lemmatize_sen(text):\n",
    "    doc = nlp(text)\n",
    "    lemmatized_sen =[]\n",
    "    for sentence in doc.sentences:\n",
    "        for word in sentence.words:\n",
    "            if word.upos != \"PUNCT\":\n",
    "                lemmatized_sen.append(word.lemma)\n",
    "    return lemmatized_sen\n",
    "\n",
    "lda_df['lemmas'] = lda_df['body'].apply(lemmatize_sen)\n",
    "lda_df['lemmas']"
   ]
  },
  {
   "cell_type": "code",
   "execution_count": 78,
   "metadata": {},
   "outputs": [],
   "source": [
    "# creating data and bigrams\n",
    "from gensim.models import Phrases\n",
    "tokens = lda_df.lemmas.tolist()\n",
    "bigram_model = Phrases(tokens)\n",
    "tokens = [bigram_model[text] for text in tokens]"
   ]
  },
  {
   "cell_type": "code",
   "execution_count": 79,
   "metadata": {},
   "outputs": [],
   "source": [
    "# creating dictionary and corpus\n",
    "from gensim import corpora\n",
    "LDA_dict = corpora.Dictionary(tokens)\n",
    "LDA_dict.filter_extremes(no_below=3)\n",
    "corpus = [LDA_dict.doc2bow(t) for t in tokens]"
   ]
  },
  {
   "cell_type": "code",
   "execution_count": 80,
   "metadata": {},
   "outputs": [],
   "source": [
    "# running LDA\n",
    "from gensim import models\n",
    "np.random.seed(69)\n",
    "num_topics = 1\n",
    "lda_model = models.LdaModel(corpus, num_topics=num_topics, \\\n",
    "                                  id2word=LDA_dict, \\\n",
    "                                  passes=4, alpha=[0.01]*num_topics, \\\n",
    "                                  eta=[0.01]*len(LDA_dict.keys()))"
   ]
  },
  {
   "cell_type": "code",
   "execution_count": 81,
   "metadata": {},
   "outputs": [
    {
     "data": {
      "text/plain": [
       "[(0,\n",
       "  '0.006*\"page\" + 0.006*\"Facebook\" + 0.006*\"network\" + 0.005*\"Guardian\" + 0.005*\"post\" + 0.005*\"Johnson\" + 0.005*\"my\" + 0.005*\"Macron\" + 0.004*\"use\" + 0.004*\"group\" + 0.004*\"before\" + 0.003*\"video\" + 0.003*\"attack\" + 0.003*\"share\" + 0.003*\"because\" + 0.003*\"off\" + 0.003*\"ask\" + 0.003*\"member\" + 0.003*\"content\" + 0.003*\"comment\"')]"
      ]
     },
     "execution_count": 81,
     "metadata": {},
     "output_type": "execute_result"
    }
   ],
   "source": [
    "lda_model.show_topics(num_words=20)"
   ]
  },
  {
   "cell_type": "markdown",
   "metadata": {},
   "source": [
    "TODO:  \n",
    "- finish topic modelling\n",
    "  - remove stopwords\n",
    "  - check what else maybe has to be removed\n",
    "  - implement it in function to call for all dfs returning useful output\n",
    "  - clean code\n",
    "- add visualization of developement over time\n",
    "- add better viz for confidence interval\n",
    "- get automation going\n",
    "- create email / pdf report from findings"
   ]
  }
 ],
 "metadata": {
  "interpreter": {
   "hash": "8ca06996e3193df3b381d85aee2d4d3369a534d3bb1c7cdff9d40f8ac16de6f6"
  },
  "kernelspec": {
   "display_name": "Python 3.8.7 64-bit",
   "language": "python",
   "name": "python3"
  },
  "language_info": {
   "codemirror_mode": {
    "name": "ipython",
    "version": 3
   },
   "file_extension": ".py",
   "mimetype": "text/x-python",
   "name": "python",
   "nbconvert_exporter": "python",
   "pygments_lexer": "ipython3",
   "version": "3.8.8"
  },
  "orig_nbformat": 4
 },
 "nbformat": 4,
 "nbformat_minor": 2
}
